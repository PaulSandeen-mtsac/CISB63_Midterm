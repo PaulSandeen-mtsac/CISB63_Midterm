{
 "cells": [
  {
   "cell_type": "markdown",
   "id": "7ca57faa-d929-4371-9559-68e22fc08840",
   "metadata": {},
   "source": [
    "<div style=\"text-align:center\">\n",
    "    \n",
    "# 'Medi': The NLP-Based Medical Diagnostic Chatbot\n",
    "\n",
    "### Mt. SAC CISB 63 Midterm Project Fall 2023\n",
    "\n",
    "#### By\n",
    "    \n",
    "#### Paul Sandeen\n",
    "    \n",
    "</div>"
   ]
  },
  {
   "cell_type": "markdown",
   "id": "7b4c1db9-28ab-441d-9122-2d4a5d753ee7",
   "metadata": {},
   "source": [
    "## Introduction"
   ]
  },
  {
   "cell_type": "markdown",
   "id": "52a3f3f2-2dd1-4208-b6f6-b2c9e9085c0e",
   "metadata": {},
   "source": [
    "Providing timely and accurate medical advice for non-life-threatening conditions is one aspect of the health care system where technology can be a benefit, especially to historically underserved communities.\n",
    "\n",
    "A chatbot is an automated agent (artificial intelligence) that can interact with a user to ask questions and receive answers from a knowledge base developed by experts. Chatbots use Natural Language Processing (NLP) techniques to analyze user input to attempt to understand the words and context of the conversation. Medi is an interactive medical diagnostic chatbot.\n",
    "\n",
    "The user will tell Medi about the nature of their health issue, and Medi will ask a question about when the issue started and another question related to the issue, and then issue a recommendation. Medi will then ask for feedback about the nature of the recommendation.\n",
    "\n",
    "The project is divided into two parts: The first part is the NLP-powered  ‘engine’ that runs the Medi chatbot; the second part uses NLP techniques to analyze the information provided by the user during the chat session to evaluate Medi’s performance. \n"
   ]
  },
  {
   "cell_type": "markdown",
   "id": "24423417-da68-4ba6-a57b-d19d27cfea02",
   "metadata": {},
   "source": [
    "## Intended Audience"
   ]
  },
  {
   "cell_type": "markdown",
   "id": "a875a9fe-339d-452a-bd39-b4025a5a3c32",
   "metadata": {},
   "source": [
    "This project will be of interest to anyone who wants to understand how NLP can be used in the context of interactive automated agents like chatbots. A basic understanding of the Python programming language, its associated NLP libraries, and basic NLP techniques is required."
   ]
  },
  {
   "cell_type": "markdown",
   "id": "9cbbb5ac-9cdb-4945-9126-b70dbc8973fd",
   "metadata": {},
   "source": [
    "## Materiels and Methods"
   ]
  },
  {
   "cell_type": "markdown",
   "id": "499e1fbd-9090-43bf-8c07-21eb4f4a8844",
   "metadata": {},
   "source": [
    "This project uses the Python programming language running in the Anaconda environment. \n",
    "\n",
    "Associated Python data science libraries: Numpy, pandas, Matplotlib, Seaborn.\n",
    "\n",
    "Associated Python NLP libraries: scikit-learn, NLTK, TextBlob, WordCloud, spaCy\n",
    "\n",
    "The project was composed as a Jupyter Notebook.\n"
   ]
  },
  {
   "cell_type": "markdown",
   "id": "d7df579e-5422-4f5a-85ec-205563d04a93",
   "metadata": {},
   "source": [
    "## Data Source"
   ]
  },
  {
   "cell_type": "markdown",
   "id": "f2e62f44-b98c-41c5-b139-d4dda8646997",
   "metadata": {},
   "source": [
    "The data for the project is all textual data and stored in text files that were custom-generated for this project. The files have the format <i>label:text</i>, where label is the nature of the user complaint, and text is the text associated with the label.\n",
    "\n",
    "The project files are stored in the data subdirectory:\n",
    "\n",
    "*\t<b>complaints.txt</b>: Knowledge base of the types of user complaints (‘I have a stomach ache’)\n",
    "*\t<b>counts.txt</b>: Tracks the report frequency for each user complaint\n",
    "*\t<b>prompts.txt</b>: The introduction and departing text used by the chatbot\n",
    "*\t<b>questions1.txt</b>: Questions related to the complaint asked by the chatbot  \n",
    "*\t<b>questions2.txt</b>: Questions about the date the complaint was first observed\n",
    "*\t<b>recommendations.txt</b>: Medical recommendations for each user complaint\n",
    "*\t<b>sentiment.txt</b>: Tracks the number of positive, negative, and neutral comments left by users\n",
    "*\t<b>wait.txt</b>: Tracks how long the user waited (in days) to seek help from the chatbot\n"
   ]
  },
  {
   "cell_type": "markdown",
   "id": "630909e0-28a9-4fe0-98c5-7bb180a93fcf",
   "metadata": {},
   "source": [
    "## Acquire the Necessary Software Packages"
   ]
  },
  {
   "cell_type": "code",
   "execution_count": 1,
   "id": "098372c6-a60e-41a5-8db1-70565a2c51bb",
   "metadata": {},
   "outputs": [],
   "source": [
    "# Import the Python Data Science libraries\n",
    "import numpy as np\n",
    "import pandas as pd\n",
    "import matplotlib.pyplot as plt\n",
    "import string\n",
    "import ast"
   ]
  },
  {
   "cell_type": "code",
   "execution_count": 2,
   "id": "25f2ceb4-06b6-4226-bccd-0e1fa103a32d",
   "metadata": {},
   "outputs": [],
   "source": [
    "# Import the Python scikit-learn libraries\n",
    "from sklearn.pipeline import Pipeline\n",
    "from sklearn.feature_extraction.text import CountVectorizer\n",
    "from sklearn.feature_extraction.text import TfidfTransformer\n",
    "from sklearn.naive_bayes import MultinomialNB\n",
    "from sklearn.datasets import make_classification"
   ]
  },
  {
   "cell_type": "code",
   "execution_count": 3,
   "id": "0442b828-1640-4630-a803-d77974893893",
   "metadata": {},
   "outputs": [],
   "source": [
    "# Import the Python NLP libraries\n",
    "\n",
    "from textblob import TextBlob\n",
    "\n",
    "import nltk\n",
    "from nltk.corpus import stopwords\n",
    "from nltk.tokenize import word_tokenize, sent_tokenize\n",
    "from nltk.tag import pos_tag\n",
    "from nltk.chunk import ne_chunk\n",
    "\n",
    "import re\n",
    "\n",
    "from datetime import date\n",
    "from datetime import datetime\n",
    "\n",
    "from wordcloud import WordCloud\n",
    "\n",
    "import spacy\n",
    "from spacy import displacy\n"
   ]
  },
  {
   "cell_type": "code",
   "execution_count": 4,
   "id": "f06bbbd9-301a-472a-bcf1-ce70fd20b81e",
   "metadata": {},
   "outputs": [
    {
     "name": "stderr",
     "output_type": "stream",
     "text": [
      "[nltk_data] Downloading package punkt to\n",
      "[nltk_data]     C:\\Users\\psand\\AppData\\Roaming\\nltk_data...\n",
      "[nltk_data]   Package punkt is already up-to-date!\n"
     ]
    },
    {
     "data": {
      "text/plain": [
       "True"
      ]
     },
     "execution_count": 4,
     "metadata": {},
     "output_type": "execute_result"
    }
   ],
   "source": [
    "# Download the NLTK databases\n",
    "nltk.download(\"punkt\")\n"
   ]
  },
  {
   "cell_type": "markdown",
   "id": "0452cc3f-53a7-4760-a272-2673c84b26ea",
   "metadata": {},
   "source": [
    "## Load the Textual Data"
   ]
  },
  {
   "cell_type": "code",
   "execution_count": 5,
   "id": "43ad86de-5325-49fe-a857-1f9236752d7f",
   "metadata": {},
   "outputs": [],
   "source": [
    "# Load the complaints.txt file\n",
    "complaints_file1 = open(\"data/complaints.txt\", 'r')\n",
    "complaints1 = complaints_file1.read()\n",
    "complaints_list1 = complaints1.split(\"\\n\") \n",
    "complaints_dict1 = {} \n",
    "for line in complaints_list1: \n",
    "    if ':' in line:\n",
    "        key, value = line.split(':') \n",
    "        key = key.strip() \n",
    "        value = value.strip() \n",
    "        complaints_dict1[key] = value \n",
    "complaints_file1.close()"
   ]
  },
  {
   "cell_type": "code",
   "execution_count": 6,
   "id": "55c3d848-e564-4550-8a52-990e275a6415",
   "metadata": {},
   "outputs": [],
   "source": [
    "# Load the questions1.txt file\n",
    "questions_file1 = open(\"data/questions1.txt\", 'r')\n",
    "questions1 = questions_file1.read()\n",
    "questions_list1 = questions1.split(\"\\n\") \n",
    "questions_dict1 = {} \n",
    "for line in questions_list1: \n",
    "    if ':' in line:\n",
    "        key, value = line.split(':') \n",
    "        key = key.strip() \n",
    "        value = value.strip() \n",
    "        questions_dict1[key] = value \n",
    "questions_file1.close()"
   ]
  },
  {
   "cell_type": "code",
   "execution_count": 7,
   "id": "7779576e-0e79-4470-95fe-8fed80131bf8",
   "metadata": {},
   "outputs": [],
   "source": [
    "# Load the questions2.txt file\n",
    "questions_file2 = open(\"data/questions2.txt\", 'r')\n",
    "questions2 = questions_file2.read()\n",
    "questions_list2 = questions2.split(\"\\n\") \n",
    "questions_dict2 = {} \n",
    "for line in questions_list2: \n",
    "    if ':' in line:\n",
    "        key, value = line.split(':') \n",
    "        key = key.strip() \n",
    "        value = value.strip() \n",
    "        questions_dict2[key] = value \n",
    "questions_file2.close()    "
   ]
  },
  {
   "cell_type": "code",
   "execution_count": 8,
   "id": "65199d72-a3f7-4992-a788-56b2f04b69d8",
   "metadata": {},
   "outputs": [],
   "source": [
    "# Load the prompts.txt file\n",
    "prompts_file = open(\"data/prompts.txt\", 'r')\n",
    "prompts = prompts_file.read()\n",
    "prompts_list = prompts.split(\"\\n\") \n",
    "prompts_dict = {} \n",
    "for line in prompts_list: \n",
    "    if ':' in line:\n",
    "        key, value = line.split(':') \n",
    "        key = key.strip() \n",
    "        value = value.strip() \n",
    "        prompts_dict[key] = value \n",
    "prompts_file .close()"
   ]
  },
  {
   "cell_type": "code",
   "execution_count": 9,
   "id": "43e3b8e2-7f44-41d6-9259-9e2d1430ac75",
   "metadata": {},
   "outputs": [],
   "source": [
    "# Load the recommendations.txt file\n",
    "recommendations_file = open(\"data/recommendations.txt\", 'r')\n",
    "recommendations = recommendations_file.read()\n",
    "recommendations_list = recommendations.split(\"\\n\") \n",
    "recommendations_dict = {} \n",
    "for line in recommendations_list:\n",
    "    if ':' in line:\n",
    "        key, value = line.split(':') \n",
    "        key = key.strip() \n",
    "        value = value.strip() \n",
    "        recommendations_dict[key] = value \n",
    "recommendations_file.close()"
   ]
  },
  {
   "cell_type": "code",
   "execution_count": 10,
   "id": "758cf637-e7a2-4aa6-8427-740618e40487",
   "metadata": {},
   "outputs": [],
   "source": [
    "# Load the counts.txt file\n",
    "counts_file = open(\"data/counts.txt\", 'r')\n",
    "counts = counts_file.read()\n",
    "counts_list = counts.split(\"\\n\") \n",
    "counts_dict = {} \n",
    "for line in counts_list:\n",
    "    if ':' in line: \n",
    "        key, value = line.split(':') \n",
    "        key = key.strip() \n",
    "        value = value.strip() \n",
    "        counts_dict[key] = int(value) \n",
    "counts_file.close()"
   ]
  },
  {
   "cell_type": "code",
   "execution_count": 11,
   "id": "b50a9a0e-056d-4a2e-bd98-7d2f4b960a8a",
   "metadata": {},
   "outputs": [],
   "source": [
    "# Load the wait.txt file\n",
    "wait_file = open(\"data/wait.txt\", 'r')\n",
    "wait = wait_file.read()\n",
    "wait_list = wait.split(\"\\n\") \n",
    "wait_dict = {} \n",
    "for line in wait_list:\n",
    "    if ':' in line: \n",
    "        key, value = line.split(':') \n",
    "        key = key.strip() \n",
    "        value = value.strip() \n",
    "        value = ast.literal_eval(value)\n",
    "        wait_dict[key] = value \n",
    "wait_file.close()"
   ]
  },
  {
   "cell_type": "code",
   "execution_count": 12,
   "id": "2e92623b-14ea-470c-b0e9-631379684396",
   "metadata": {},
   "outputs": [],
   "source": [
    "# Load the sentiment.txt data\n",
    "sentiment_file = open(\"data/sentiment.txt\", 'r')\n",
    "sentiment = sentiment_file.read()\n",
    "sentiment_list = sentiment.split(\"\\n\") \n",
    "sentiment_dict = {} \n",
    "for line in sentiment_list: \n",
    "    if ':' in line:\n",
    "        key, value = line.split(':') \n",
    "        key = key.strip() \n",
    "        value = int(value.strip()) \n",
    "        sentiment_dict[key] = value \n",
    "sentiment_file.close()"
   ]
  },
  {
   "cell_type": "markdown",
   "id": "0cff963e-683c-436f-a5fe-b4506f43b3ff",
   "metadata": {},
   "source": [
    "## Exploratory Data Analysis (EDA)"
   ]
  },
  {
   "cell_type": "markdown",
   "id": "5773f373-13ec-4e5b-9a50-84c2f4e7c4a8",
   "metadata": {},
   "source": [
    "#### Display the labeled user complaints"
   ]
  },
  {
   "cell_type": "code",
   "execution_count": 13,
   "id": "3c65e666-c2ba-4112-8c87-00f993fe4a5b",
   "metadata": {},
   "outputs": [
    {
     "data": {
      "text/plain": [
       "{'broken arm': 'I have a broken arm.',\n",
       " 'broken leg': 'I have a broken leg.',\n",
       " 'broken foot': 'I have a broken foot.',\n",
       " 'broken ribs': 'I have broken ribs.',\n",
       " 'sprain ankle': 'I have a sprained ankle.',\n",
       " 'itch eye': 'I have itchy eyes.',\n",
       " 'red eye': 'I have red eyes.',\n",
       " 'pain chest': 'I have chest pain.',\n",
       " 'pain ankle': 'I have ankle pain.',\n",
       " 'pain mouth': 'I have mouth pain.',\n",
       " 'pain gum': 'I have gum pain.',\n",
       " 'pain back': 'I have back pain.',\n",
       " 'ache stomach': 'I have a stomach ache.',\n",
       " 'ache joint': 'I have joint pain.',\n",
       " 'ache tooth': 'I have a tooth ache.',\n",
       " 'rash skin': 'I have a skin rash.',\n",
       " 'itch skin': 'My skin itches.',\n",
       " 'bite bug': 'I have a bug bite.',\n",
       " 'bite insect': 'I have an insect bite.',\n",
       " 'bite dog': 'I have a dog bite.'}"
      ]
     },
     "execution_count": 13,
     "metadata": {},
     "output_type": "execute_result"
    }
   ],
   "source": [
    "# User complaints dictionary\n",
    "complaints_dict1"
   ]
  },
  {
   "cell_type": "markdown",
   "id": "118fd544-fac4-42f9-b5d5-f7e059e969ae",
   "metadata": {},
   "source": [
    "#### Display the questions for each labeled complaint"
   ]
  },
  {
   "cell_type": "code",
   "execution_count": 14,
   "id": "5b026640-f744-4e20-ac48-421fb68cf168",
   "metadata": {},
   "outputs": [
    {
     "data": {
      "text/plain": [
       "{'broken arm': 'How did you break your arm?',\n",
       " 'broken leg': 'How did you break you leg?',\n",
       " 'broken foot': 'How did you break your foot?',\n",
       " 'broken ribs': 'How did you break your ribs?',\n",
       " 'sprain ankle': 'Is there bruising in the area?',\n",
       " 'itch eye': 'Which eye is affected?',\n",
       " 'red eye': 'Which eye is affected?',\n",
       " 'pain chest': \"Is this the first time you've had chest pain?\",\n",
       " 'pain ankle': 'Have you had pain in you ankle before?',\n",
       " 'pain mouth': 'Where in the mouth does it hurt?',\n",
       " 'pain gum': 'Are the gums bleeding?',\n",
       " 'pain back': 'What caused the back pain (lifting heavy objects)?',\n",
       " 'ache stomach': 'Did you eat something unusual?',\n",
       " 'ache joint': 'Do you have arthritis',\n",
       " 'ache tooth': 'Has the tooth caused pain before?',\n",
       " 'rash skin': 'Where is the skin rash?',\n",
       " 'itch skin': 'Is there a rash in the area?',\n",
       " 'bite bug': 'Where is the bug byte?',\n",
       " 'bite insect': 'Where is the insect byte?',\n",
       " 'bite dog': 'Where is the dog byte?'}"
      ]
     },
     "execution_count": 14,
     "metadata": {},
     "output_type": "execute_result"
    }
   ],
   "source": [
    "# Chat questions dictionary\n",
    "questions_dict1"
   ]
  },
  {
   "cell_type": "markdown",
   "id": "1d9051cf-9ec3-46e4-b2d6-ca03b52042cd",
   "metadata": {},
   "source": [
    "#### Display questions for when the incident was first noticed for each labeled complaint"
   ]
  },
  {
   "cell_type": "code",
   "execution_count": 15,
   "id": "0fe3bc04-587f-4917-94eb-a88a938af747",
   "metadata": {},
   "outputs": [
    {
     "data": {
      "text/plain": [
       "{'broken arm': 'What date did you break your arm (mm/dd/yyyy)?',\n",
       " 'broken leg': 'What date did you break your leg (mm/dd/yyyy)?',\n",
       " 'broken foot': 'What date did you break your foot (mm/dd/yyyy)?',\n",
       " 'broken ribs': 'What date did you break your ribs (mm/dd/yyyy)?',\n",
       " 'sprain ankle': 'What date did you sprain your ankle (mm/dd/yyyy)?',\n",
       " 'itch eye': 'What date did your eye itch start (mm/dd/yyyy)?',\n",
       " 'red eye': 'What date did your eye redness start (mm/dd/yyyy)?',\n",
       " 'pain chest': 'What date did your chest pain start (mm/dd/yyyy)?',\n",
       " 'pain ankle': 'What date did your ankle pain start (mm/dd/yyyy)?',\n",
       " 'pain mouth': 'What date did your mouth pain start (mm/dd/yyyy)?',\n",
       " 'pain gum': 'What date did your break your leg (mm/dd/yyyy)?',\n",
       " 'pain back': 'What date did your back pain start (mm/dd/yyyy)?',\n",
       " 'ache stomach': 'What date did your stomach ache start (mm/dd/yyyy)?',\n",
       " 'ache joint': 'What date did your aching joint start (mm/dd/yyyy)?',\n",
       " 'ache tooth': 'What date did your tooth ache start (mm/dd/yyyy)?',\n",
       " 'rash skin': 'What date did your skin rash start (mm/dd/yyyy)?',\n",
       " 'itch skin': 'What date did your skin itch (mm/dd/yyyy)?',\n",
       " 'bite bug': 'What date did you get your bug byte (mm/dd/yyyy)?',\n",
       " 'bite insect': 'What date did you get your insect byte (mm/dd/yyyy)?',\n",
       " 'bite dog': 'What date did you get your dog byte (mm/dd/yyyy)?'}"
      ]
     },
     "execution_count": 15,
     "metadata": {},
     "output_type": "execute_result"
    }
   ],
   "source": [
    "# Chat questions to acquire the date the complaint was first noticed\n",
    "questions_dict2"
   ]
  },
  {
   "cell_type": "markdown",
   "id": "93eb013f-53b1-4c31-9bfe-c7a80babee7e",
   "metadata": {},
   "source": [
    "#### Display the user prompts"
   ]
  },
  {
   "cell_type": "code",
   "execution_count": 16,
   "id": "9d6b3265-256c-44bc-9932-b7878c56d00d",
   "metadata": {},
   "outputs": [
    {
     "data": {
      "text/plain": [
       "{'intro': \"Hello! I'm Medi - your Medical Diagnostic ChatBot! How can I help you?\",\n",
       " 'outtro': 'Thank you for using Medi! Was my advice helpful?'}"
      ]
     },
     "execution_count": 16,
     "metadata": {},
     "output_type": "execute_result"
    }
   ],
   "source": [
    "# User prompts dictionary\n",
    "prompts_dict"
   ]
  },
  {
   "cell_type": "markdown",
   "id": "f777c672-24fe-4aac-b510-ddc683986ec8",
   "metadata": {},
   "source": [
    "#### Display the labeled recommendations"
   ]
  },
  {
   "cell_type": "code",
   "execution_count": 17,
   "id": "bb85d253-b035-42d2-a357-1865115ff0dc",
   "metadata": {},
   "outputs": [
    {
     "data": {
      "text/plain": [
       "{'broken arm': 'Go to your nearest hospital and get an X-ray.',\n",
       " 'broken leg': 'Go to your nearest hospital and get an X-ray.',\n",
       " 'broken foot': 'Go to your nearest hospital and get an X-ray.',\n",
       " 'broken ribs': 'Go to your nearest hospital and get an X-ray.',\n",
       " 'sprain ankle': 'Elevate the ankle and apply an ice pack.',\n",
       " 'itch eye': 'Wash out the affected eye. Make an appointment with your doctor.',\n",
       " 'red eye': 'Wash out the affected eye. Make an appointment with your doctor.',\n",
       " 'pain chest': 'Go to the nearest Emergency Room immediately!',\n",
       " 'pain ankle': 'Elevate the ankle and apply an ice pack.',\n",
       " 'pain mouth': 'See your local dentist.',\n",
       " 'pain gum': 'See your local dentist.',\n",
       " 'pain back': 'Get bed rest and try relax.',\n",
       " 'ache stomach': 'Take milk of magnesia.',\n",
       " 'ache joint': 'Make an appointment to see your doctor.',\n",
       " 'ache tooth': 'See your local dentist.',\n",
       " 'rash skin': 'Apply Calamine lotion to the area.',\n",
       " 'itch skin': 'Apply Calamine lotion to the area.',\n",
       " 'bite bug': 'Wash the area and apply Calamine lotion.',\n",
       " 'bite insect': 'Wash the area and apply Calamine lotion.',\n",
       " 'bite dog': 'Go to the nearest Emergency Room immediately!'}"
      ]
     },
     "execution_count": 17,
     "metadata": {},
     "output_type": "execute_result"
    }
   ],
   "source": [
    "# Recommendations dictionary\n",
    "recommendations_dict"
   ]
  },
  {
   "cell_type": "markdown",
   "id": "42a2f17c-5471-4da0-be33-0f81521f3e1e",
   "metadata": {},
   "source": [
    "#### Display the frequency counts for each user complaint"
   ]
  },
  {
   "cell_type": "code",
   "execution_count": 18,
   "id": "e334aee4-ecaa-4c53-b297-b3cc9b3bbd12",
   "metadata": {},
   "outputs": [
    {
     "data": {
      "text/plain": [
       "{'broken arm': 154,\n",
       " 'broken leg': 116,\n",
       " 'broken foot': 5,\n",
       " 'broken ribs': 74,\n",
       " 'sprain ankle': 200,\n",
       " 'itch eye': 31,\n",
       " 'red eye': 20,\n",
       " 'pain chest': 102,\n",
       " 'pain ankle': 115,\n",
       " 'pain mouth': 62,\n",
       " 'pain gum': 87,\n",
       " 'pain back': 190,\n",
       " 'ache stomach': 141,\n",
       " 'ache joint': 98,\n",
       " 'ache tooth': 166,\n",
       " 'rash skin': 177,\n",
       " 'itch skin': 45,\n",
       " 'bite bug': 120,\n",
       " 'bite insect': 150,\n",
       " 'bite dog': 56}"
      ]
     },
     "execution_count": 18,
     "metadata": {},
     "output_type": "execute_result"
    }
   ],
   "source": [
    "# Complaints dictionary\n",
    "counts_dict"
   ]
  },
  {
   "cell_type": "markdown",
   "id": "80d3b34d-be35-47a8-bfae-c5180fec8971",
   "metadata": {},
   "source": [
    "#### Display how long the user delayed in reporting the complaint"
   ]
  },
  {
   "cell_type": "code",
   "execution_count": 19,
   "id": "b29ee73f-2765-4dfb-88b4-c8c3df93fa39",
   "metadata": {},
   "outputs": [
    {
     "data": {
      "text/plain": [
       "{'broken arm': [0, 1, 1, 1, 0, 0, 1, 1, 0, 1, 2, 1],\n",
       " 'broken leg': [0, 0, 0, 0, 1, 1, 0, 0, 0, 0, 2],\n",
       " 'broken foot': [0, 1, 1],\n",
       " 'broken ribs': [0, 0, 1, 1, 0, 0, 0, 0, 0, 0],\n",
       " 'sprain ankle': [2, 2, 1, 1, 1, 0, 0, 1, 1, 0],\n",
       " 'itch eye': [3, 5, 4, 3, 5, 4, 3, 2, 4, 5],\n",
       " 'red eye': [3, 4, 4, 3, 5, 3, 3, 2, 1, 1],\n",
       " 'pain chest': [0, 0, 0, 1, 1, 0, 0, 0, 1, 0],\n",
       " 'pain ankle': [4, 5, 4, 3, 5, 4, 3, 3, 2, 1],\n",
       " 'pain mouth': [1, 3, 2, 3, 4, 3, 2, 1, 2, 1],\n",
       " 'pain gum': [3, 2, 4, 5, 6, 3, 2, 4, 5, 5],\n",
       " 'pain back': [5, 4, 4, 3, 4, 3, 2, 1, 4, 5],\n",
       " 'ache stomach': [1, 4, 3, 2, 3, 1, 1, 0, 1, 2],\n",
       " 'ache joint': [4, 5, 6, 3, 2, 6, 7, 3, 2, 4],\n",
       " 'ache tooth': [1, 2, 1, 2, 3, 2, 3, 1, 2, 2],\n",
       " 'rash skin': [1, 5, 2, 1, 3, 4, 1, 3, 4, 4],\n",
       " 'itch skin': [2, 3, 4, 4, 2, 5, 6, 2, 7, 2],\n",
       " 'bite bug': [0, 1, 3, 2, 1, 2, 3, 2, 1, 2],\n",
       " 'bite dog': [0, 1, 0, 0, 0, 0, 1, 0, 0, 1]}"
      ]
     },
     "execution_count": 19,
     "metadata": {},
     "output_type": "execute_result"
    }
   ],
   "source": [
    "# Wait dictionry\n",
    "wait_dict"
   ]
  },
  {
   "cell_type": "markdown",
   "id": "22a3a19e-8dbb-42d0-a396-6f3b91972e46",
   "metadata": {},
   "source": [
    "#### Display the sentiment analysis scores of user feedback"
   ]
  },
  {
   "cell_type": "code",
   "execution_count": 20,
   "id": "455a6ef5-9074-4a23-b81e-37587fe6ec37",
   "metadata": {},
   "outputs": [
    {
     "data": {
      "text/plain": [
       "{'positive': 115, 'negative': 78, 'neutral': 40}"
      ]
     },
     "execution_count": 20,
     "metadata": {},
     "output_type": "execute_result"
    }
   ],
   "source": [
    "# Sentiment dictionary\n",
    "sentiment_dict"
   ]
  },
  {
   "cell_type": "markdown",
   "id": "56c2b198-4ed9-440e-aa1e-26194f5535fb",
   "metadata": {},
   "source": [
    "## Apply NLP Techniques"
   ]
  },
  {
   "cell_type": "markdown",
   "id": "648558ac-4bf8-4230-856c-c28428d99d0c",
   "metadata": {},
   "source": [
    "### Project Part 1: The Medi Chatbot Engine"
   ]
  },
  {
   "cell_type": "markdown",
   "id": "09489f64-ca73-490b-965b-3b50a69b305c",
   "metadata": {},
   "source": [
    "A pipeline is used to help map the user complaint typed into the chatbot interface to the correct label. \n",
    "\n",
    "The pipeline collects all the necessary steps: \n",
    "\n",
    "* Tokenize the text\n",
    "\n",
    "* Feature extraction using bag-of-words (BOW) and term frequency-inverse document frequency (TF-IDF)\n",
    "\n",
    "* Provide the multinomial Naïve Bayes classifier, a common NLP algorithm used for text classification\n"
   ]
  },
  {
   "cell_type": "code",
   "execution_count": 21,
   "id": "87682c7f-15e2-4c5a-be01-a33e29678a14",
   "metadata": {},
   "outputs": [],
   "source": [
    "# Create a text classification pipeline\n",
    "text_clf = Pipeline([\n",
    "    ('BOW', CountVectorizer()),    # Convert text to a BOW representation\n",
    "    ('tfid', TfidfTransformer()),  # Apply TF-IDF transformation\n",
    "    ('clf', MultinomialNB())       # Multinomial Naive Bayes classifier\n",
    "])"
   ]
  },
  {
   "cell_type": "markdown",
   "id": "e2f06cb7-dbfc-4adb-b532-bdac843f4a86",
   "metadata": {},
   "source": [
    "#### Fit (train) the model"
   ]
  },
  {
   "cell_type": "code",
   "execution_count": 22,
   "id": "d0993922-344b-4629-a6b9-0b53e102109f",
   "metadata": {},
   "outputs": [
    {
     "data": {
      "text/html": [
       "<style>#sk-container-id-1 {color: black;}#sk-container-id-1 pre{padding: 0;}#sk-container-id-1 div.sk-toggleable {background-color: white;}#sk-container-id-1 label.sk-toggleable__label {cursor: pointer;display: block;width: 100%;margin-bottom: 0;padding: 0.3em;box-sizing: border-box;text-align: center;}#sk-container-id-1 label.sk-toggleable__label-arrow:before {content: \"▸\";float: left;margin-right: 0.25em;color: #696969;}#sk-container-id-1 label.sk-toggleable__label-arrow:hover:before {color: black;}#sk-container-id-1 div.sk-estimator:hover label.sk-toggleable__label-arrow:before {color: black;}#sk-container-id-1 div.sk-toggleable__content {max-height: 0;max-width: 0;overflow: hidden;text-align: left;background-color: #f0f8ff;}#sk-container-id-1 div.sk-toggleable__content pre {margin: 0.2em;color: black;border-radius: 0.25em;background-color: #f0f8ff;}#sk-container-id-1 input.sk-toggleable__control:checked~div.sk-toggleable__content {max-height: 200px;max-width: 100%;overflow: auto;}#sk-container-id-1 input.sk-toggleable__control:checked~label.sk-toggleable__label-arrow:before {content: \"▾\";}#sk-container-id-1 div.sk-estimator input.sk-toggleable__control:checked~label.sk-toggleable__label {background-color: #d4ebff;}#sk-container-id-1 div.sk-label input.sk-toggleable__control:checked~label.sk-toggleable__label {background-color: #d4ebff;}#sk-container-id-1 input.sk-hidden--visually {border: 0;clip: rect(1px 1px 1px 1px);clip: rect(1px, 1px, 1px, 1px);height: 1px;margin: -1px;overflow: hidden;padding: 0;position: absolute;width: 1px;}#sk-container-id-1 div.sk-estimator {font-family: monospace;background-color: #f0f8ff;border: 1px dotted black;border-radius: 0.25em;box-sizing: border-box;margin-bottom: 0.5em;}#sk-container-id-1 div.sk-estimator:hover {background-color: #d4ebff;}#sk-container-id-1 div.sk-parallel-item::after {content: \"\";width: 100%;border-bottom: 1px solid gray;flex-grow: 1;}#sk-container-id-1 div.sk-label:hover label.sk-toggleable__label {background-color: #d4ebff;}#sk-container-id-1 div.sk-serial::before {content: \"\";position: absolute;border-left: 1px solid gray;box-sizing: border-box;top: 0;bottom: 0;left: 50%;z-index: 0;}#sk-container-id-1 div.sk-serial {display: flex;flex-direction: column;align-items: center;background-color: white;padding-right: 0.2em;padding-left: 0.2em;position: relative;}#sk-container-id-1 div.sk-item {position: relative;z-index: 1;}#sk-container-id-1 div.sk-parallel {display: flex;align-items: stretch;justify-content: center;background-color: white;position: relative;}#sk-container-id-1 div.sk-item::before, #sk-container-id-1 div.sk-parallel-item::before {content: \"\";position: absolute;border-left: 1px solid gray;box-sizing: border-box;top: 0;bottom: 0;left: 50%;z-index: -1;}#sk-container-id-1 div.sk-parallel-item {display: flex;flex-direction: column;z-index: 1;position: relative;background-color: white;}#sk-container-id-1 div.sk-parallel-item:first-child::after {align-self: flex-end;width: 50%;}#sk-container-id-1 div.sk-parallel-item:last-child::after {align-self: flex-start;width: 50%;}#sk-container-id-1 div.sk-parallel-item:only-child::after {width: 0;}#sk-container-id-1 div.sk-dashed-wrapped {border: 1px dashed gray;margin: 0 0.4em 0.5em 0.4em;box-sizing: border-box;padding-bottom: 0.4em;background-color: white;}#sk-container-id-1 div.sk-label label {font-family: monospace;font-weight: bold;display: inline-block;line-height: 1.2em;}#sk-container-id-1 div.sk-label-container {text-align: center;}#sk-container-id-1 div.sk-container {/* jupyter's `normalize.less` sets `[hidden] { display: none; }` but bootstrap.min.css set `[hidden] { display: none !important; }` so we also need the `!important` here to be able to override the default hidden behavior on the sphinx rendered scikit-learn.org. See: https://github.com/scikit-learn/scikit-learn/issues/21755 */display: inline-block !important;position: relative;}#sk-container-id-1 div.sk-text-repr-fallback {display: none;}</style><div id=\"sk-container-id-1\" class=\"sk-top-container\"><div class=\"sk-text-repr-fallback\"><pre>Pipeline(steps=[(&#x27;BOW&#x27;, CountVectorizer()), (&#x27;tfid&#x27;, TfidfTransformer()),\n",
       "                (&#x27;clf&#x27;, MultinomialNB())])</pre><b>In a Jupyter environment, please rerun this cell to show the HTML representation or trust the notebook. <br />On GitHub, the HTML representation is unable to render, please try loading this page with nbviewer.org.</b></div><div class=\"sk-container\" hidden><div class=\"sk-item sk-dashed-wrapped\"><div class=\"sk-label-container\"><div class=\"sk-label sk-toggleable\"><input class=\"sk-toggleable__control sk-hidden--visually\" id=\"sk-estimator-id-1\" type=\"checkbox\" ><label for=\"sk-estimator-id-1\" class=\"sk-toggleable__label sk-toggleable__label-arrow\">Pipeline</label><div class=\"sk-toggleable__content\"><pre>Pipeline(steps=[(&#x27;BOW&#x27;, CountVectorizer()), (&#x27;tfid&#x27;, TfidfTransformer()),\n",
       "                (&#x27;clf&#x27;, MultinomialNB())])</pre></div></div></div><div class=\"sk-serial\"><div class=\"sk-item\"><div class=\"sk-estimator sk-toggleable\"><input class=\"sk-toggleable__control sk-hidden--visually\" id=\"sk-estimator-id-2\" type=\"checkbox\" ><label for=\"sk-estimator-id-2\" class=\"sk-toggleable__label sk-toggleable__label-arrow\">CountVectorizer</label><div class=\"sk-toggleable__content\"><pre>CountVectorizer()</pre></div></div></div><div class=\"sk-item\"><div class=\"sk-estimator sk-toggleable\"><input class=\"sk-toggleable__control sk-hidden--visually\" id=\"sk-estimator-id-3\" type=\"checkbox\" ><label for=\"sk-estimator-id-3\" class=\"sk-toggleable__label sk-toggleable__label-arrow\">TfidfTransformer</label><div class=\"sk-toggleable__content\"><pre>TfidfTransformer()</pre></div></div></div><div class=\"sk-item\"><div class=\"sk-estimator sk-toggleable\"><input class=\"sk-toggleable__control sk-hidden--visually\" id=\"sk-estimator-id-4\" type=\"checkbox\" ><label for=\"sk-estimator-id-4\" class=\"sk-toggleable__label sk-toggleable__label-arrow\">MultinomialNB</label><div class=\"sk-toggleable__content\"><pre>MultinomialNB()</pre></div></div></div></div></div></div></div>"
      ],
      "text/plain": [
       "Pipeline(steps=[('BOW', CountVectorizer()), ('tfid', TfidfTransformer()),\n",
       "                ('clf', MultinomialNB())])"
      ]
     },
     "execution_count": 22,
     "metadata": {},
     "output_type": "execute_result"
    }
   ],
   "source": [
    "# Fit the pipeline to the data\n",
    "text_clf.fit(list(complaints_dict1.values()), list(complaints_dict1.keys()))\n"
   ]
  },
  {
   "cell_type": "code",
   "execution_count": 23,
   "id": "64a920b4-e957-40ce-b82d-2866fe344be5",
   "metadata": {},
   "outputs": [
    {
     "data": {
      "text/plain": [
       "'broken leg'"
      ]
     },
     "execution_count": 23,
     "metadata": {},
     "output_type": "execute_result"
    }
   ],
   "source": [
    "# Show a sample text prediction\n",
    "str(text_clf.predict(['I have a broken leg'])[0])"
   ]
  },
  {
   "cell_type": "markdown",
   "id": "99b281bf-1168-48b9-9bfc-f3d013ec2e06",
   "metadata": {},
   "source": [
    "#### Run the Medi Chatbot"
   ]
  },
  {
   "cell_type": "code",
   "execution_count": 25,
   "id": "c22fb0a2-6ee4-434c-99cf-71c012acf2d6",
   "metadata": {},
   "outputs": [
    {
     "name": "stdout",
     "output_type": "stream",
     "text": [
      "Hello! I'm Medi - your Medical Diagnostic ChatBot! How can I help you?\n"
     ]
    },
    {
     "name": "stdin",
     "output_type": "stream",
     "text": [
      ">> I have a broken arm\n"
     ]
    },
    {
     "name": "stdout",
     "output_type": "stream",
     "text": [
      "broken arm\n",
      "What date did you break your arm (mm/dd/yyyy)?\n"
     ]
    },
    {
     "name": "stdin",
     "output_type": "stream",
     "text": [
      ">> 10/24/2023\n"
     ]
    },
    {
     "name": "stdout",
     "output_type": "stream",
     "text": [
      "How did you break your arm?\n"
     ]
    },
    {
     "name": "stdin",
     "output_type": "stream",
     "text": [
      ">> I fell down\n"
     ]
    },
    {
     "name": "stdout",
     "output_type": "stream",
     "text": [
      "Go to your nearest hospital and get an X-ray.\n",
      "Thank you for using Medi! Was my advice helpful?\n"
     ]
    },
    {
     "name": "stdin",
     "output_type": "stream",
     "text": [
      ">> Yes it was very helpful\n"
     ]
    }
   ],
   "source": [
    "# Question #1: Introduction and what is your health concern?\n",
    "\n",
    "print(prompts_dict['intro'])\n",
    "user_input = input('>>')\n",
    "\n",
    "# Correct the spelling of the user input\n",
    "user_input_corrected = str(TextBlob(user_input.lower()).correct())\n",
    "\n",
    "# Predict the patient condition\n",
    "patient_condition = str(text_clf.predict([user_input_corrected])[0])\n",
    "\n",
    "# Print the predicted patient condition\n",
    "print(patient_condition)\n",
    "\n",
    "# Question #2: When did your health concern start?\n",
    "\n",
    "valid_date = False\n",
    "date_regex = r\"^(0[1-9]|1[0-2])/(0[1-9]|[12][0-9]|3[01])/[0-9]{4}$\"\n",
    "    \n",
    "while not valid_date:\n",
    "    print(questions_dict2[patient_condition])\n",
    "    date_input = input('>>')\n",
    "    if re.match(date_regex, date_input):\n",
    "        valid_date = True\n",
    "\n",
    "# Question #3: How did this happen to you?\n",
    "print(questions_dict1[patient_condition])\n",
    "cause_input = input('>>')\n",
    "\n",
    "# Print the recommendation\n",
    "print(recommendations_dict[patient_condition])   \n",
    "\n",
    "# Get user feedback\n",
    "print(prompts_dict['outtro'])\n",
    "user_feedback = input('>>')\n"
   ]
  },
  {
   "cell_type": "markdown",
   "id": "41ca4ffb-0d56-468e-ad20-4f1aa3a697fe",
   "metadata": {},
   "source": [
    "#### Result of the Medi chatbot session"
   ]
  },
  {
   "cell_type": "markdown",
   "id": "34874d35-1950-4b8c-90f4-ab7cb9adc337",
   "metadata": {},
   "source": [
    "Medi was able to:\n",
    "\n",
    "* predict the user complaint\n",
    "* map the complaint to the correct label \n",
    "* ask the follow-up questions\n",
    "* request feedback\r\n"
   ]
  },
  {
   "cell_type": "markdown",
   "id": "7eebd33b-84dd-4f62-8de1-0fbf8ccb4404",
   "metadata": {},
   "source": [
    "### Project Part 2: Analyze the Collected Data"
   ]
  },
  {
   "cell_type": "markdown",
   "id": "a3ccd0c3-12ef-4628-8383-c732757705ea",
   "metadata": {},
   "source": [
    "#### Track the user complaint"
   ]
  },
  {
   "cell_type": "markdown",
   "id": "4e9398e7-81b8-4dc5-80e4-afae8d67743b",
   "metadata": {},
   "source": [
    "After the Medi chatbot session, track the user complaint by incrementing the complaint count for that label by 1 and update the counts.txt file"
   ]
  },
  {
   "cell_type": "code",
   "execution_count": 26,
   "id": "9c0a498c-023b-43d5-8b29-798adc6c5283",
   "metadata": {},
   "outputs": [],
   "source": [
    "# Increment the count for this user complaint\n",
    "counts_dict[patient_condition] += 1"
   ]
  },
  {
   "cell_type": "code",
   "execution_count": 27,
   "id": "30612c05-4316-4a3d-8b9a-b76e1a6e0f12",
   "metadata": {},
   "outputs": [
    {
     "name": "stdout",
     "output_type": "stream",
     "text": [
      "The dictionary has been saved to data/counts.txt\n"
     ]
    }
   ],
   "source": [
    "# Save the updated counts to disk\n",
    "file_path = \"data/counts.txt\"\n",
    "\n",
    "with open(file_path, 'w') as file:\n",
    "    for key, value in counts_dict.items():\n",
    "        file.write(f\"{key}:{value}\\n\")\n",
    "\n",
    "print(f\"The dictionary has been saved to {file_path}\")"
   ]
  },
  {
   "cell_type": "markdown",
   "id": "88cce8fd-842c-4a8d-bdc4-7bec00aab3f9",
   "metadata": {},
   "source": [
    "#### Visualize the user complaint totals"
   ]
  },
  {
   "cell_type": "code",
   "execution_count": 28,
   "id": "80a9163b-4361-4af2-9969-7925a9fe3f38",
   "metadata": {},
   "outputs": [
    {
     "data": {
      "text/plain": [
       "Text(0.5, 1.0, 'Reported Patient Complaints')"
      ]
     },
     "execution_count": 28,
     "metadata": {},
     "output_type": "execute_result"
    },
    {
     "data": {
      "image/png": "[encoded data removed]",
      "text/plain": [
       "<Figure size 640x480 with 1 Axes>"
      ]
     },
     "metadata": {},
     "output_type": "display_data"
    }
   ],
   "source": [
    "# Sort the complaints dictionary by number of reported complaints\n",
    "sorted_complaints = dict(sorted(counts_dict.items(), key=lambda item: item[1]))\n",
    "plot_complaints = list(sorted_complaints.keys())\n",
    "plot_counts = list(sorted_complaints.values())\n",
    "\n",
    "plt.barh(plot_complaints, plot_counts)\n",
    "plt.xlabel('Number of Complaints')\n",
    "plt.title('Reported Patient Complaints')"
   ]
  },
  {
   "cell_type": "markdown",
   "id": "5913fbfb-38db-4bc1-9b54-831537cb57cb",
   "metadata": {},
   "source": [
    "<b>Plot interpretation</b>: The most common user complaint is a sprain ankle, followed by back pain and skin rash. The least common complaint was ‘broken foot’ which was meant to be a word substitute for an ankle sprain."
   ]
  },
  {
   "cell_type": "markdown",
   "id": "3747c50e-52a3-4491-aea2-13a6b383d61d",
   "metadata": {},
   "source": [
    "#### Analyize the date of the incident experienced by the user"
   ]
  },
  {
   "cell_type": "markdown",
   "id": "79d24d04-de6a-4992-8322-7986f051f390",
   "metadata": {},
   "source": [
    "Sometimes users wait for a few days before they seek out help from Medi. For some complaints (like a skin rash) this can be a few days, while for more serious things (like a dog bite) the user may seek from Medi on the same day as the incident. "
   ]
  },
  {
   "cell_type": "code",
   "execution_count": 29,
   "id": "5e390e83-1adf-420e-b2be-134a2ef0dc1f",
   "metadata": {},
   "outputs": [],
   "source": [
    "# Get the current date\n",
    "current_date = datetime.now()\n",
    "\n",
    "# Convert the date entered by the user to a date format\n",
    "month, day, year = map(int, date_input.split('/'))\n",
    "date_event =  datetime(year, month, day)\n",
    "\n",
    "# Calcuate the difference between the current date and user entered date in days\n",
    "date_difference = (current_date - date_event).days\n",
    "\n"
   ]
  },
  {
   "cell_type": "markdown",
   "id": "209a084d-f499-4df1-923c-6348f21126bf",
   "metadata": {},
   "source": [
    "#### Update the wait-to-report dictionary and save to the wait.txt file"
   ]
  },
  {
   "cell_type": "code",
   "execution_count": 30,
   "id": "0321b873-7f90-4bb4-9bd6-ff71bc6bb20c",
   "metadata": {},
   "outputs": [
    {
     "data": {
      "text/plain": [
       "{'broken arm': [0, 1, 1, 1, 0, 0, 1, 1, 0, 1, 2, 1, 1],\n",
       " 'broken leg': [0, 0, 0, 0, 1, 1, 0, 0, 0, 0, 2],\n",
       " 'broken foot': [0, 1, 1],\n",
       " 'broken ribs': [0, 0, 1, 1, 0, 0, 0, 0, 0, 0],\n",
       " 'sprain ankle': [2, 2, 1, 1, 1, 0, 0, 1, 1, 0],\n",
       " 'itch eye': [3, 5, 4, 3, 5, 4, 3, 2, 4, 5],\n",
       " 'red eye': [3, 4, 4, 3, 5, 3, 3, 2, 1, 1],\n",
       " 'pain chest': [0, 0, 0, 1, 1, 0, 0, 0, 1, 0],\n",
       " 'pain ankle': [4, 5, 4, 3, 5, 4, 3, 3, 2, 1],\n",
       " 'pain mouth': [1, 3, 2, 3, 4, 3, 2, 1, 2, 1],\n",
       " 'pain gum': [3, 2, 4, 5, 6, 3, 2, 4, 5, 5],\n",
       " 'pain back': [5, 4, 4, 3, 4, 3, 2, 1, 4, 5],\n",
       " 'ache stomach': [1, 4, 3, 2, 3, 1, 1, 0, 1, 2],\n",
       " 'ache joint': [4, 5, 6, 3, 2, 6, 7, 3, 2, 4],\n",
       " 'ache tooth': [1, 2, 1, 2, 3, 2, 3, 1, 2, 2],\n",
       " 'rash skin': [1, 5, 2, 1, 3, 4, 1, 3, 4, 4],\n",
       " 'itch skin': [2, 3, 4, 4, 2, 5, 6, 2, 7, 2],\n",
       " 'bite bug': [0, 1, 3, 2, 1, 2, 3, 2, 1, 2],\n",
       " 'bite dog': [0, 1, 0, 0, 0, 0, 1, 0, 0, 1]}"
      ]
     },
     "execution_count": 30,
     "metadata": {},
     "output_type": "execute_result"
    }
   ],
   "source": [
    "# Append the new wait-to-report data\n",
    "wait_dict[patient_condition].append(date_difference)\n",
    "wait_dict"
   ]
  },
  {
   "cell_type": "code",
   "execution_count": 31,
   "id": "2a60ff3e-f592-4a44-afbf-e2928d9e48c7",
   "metadata": {},
   "outputs": [
    {
     "name": "stdout",
     "output_type": "stream",
     "text": [
      "The dictionary has been saved to data/wait.txt\n"
     ]
    }
   ],
   "source": [
    "# Update the wait-to-report text file with the latest information\n",
    "file_path = \"data/wait.txt\"\n",
    "\n",
    "with open(file_path, 'w') as file:\n",
    "    for key, value in wait_dict.items():\n",
    "        file.write(f\"{key}:{value}\\n\")\n",
    "\n",
    "print(f\"The dictionary has been saved to {file_path}\")"
   ]
  },
  {
   "cell_type": "markdown",
   "id": "0df62e78-8f95-495a-bc20-8c45b7fd5448",
   "metadata": {},
   "source": [
    "#### Calculate the average wait-to-report time for each user complaint"
   ]
  },
  {
   "cell_type": "code",
   "execution_count": 32,
   "id": "6b34f0f7-aaf6-42bd-978f-0ecdcf4318a6",
   "metadata": {},
   "outputs": [
    {
     "data": {
      "text/plain": [
       "{'broken arm': 0.77,\n",
       " 'broken leg': 0.36,\n",
       " 'broken foot': 0.67,\n",
       " 'broken ribs': 0.2,\n",
       " 'sprain ankle': 0.9,\n",
       " 'itch eye': 3.8,\n",
       " 'red eye': 2.9,\n",
       " 'pain chest': 0.3,\n",
       " 'pain ankle': 3.4,\n",
       " 'pain mouth': 2.2,\n",
       " 'pain gum': 3.9,\n",
       " 'pain back': 3.5,\n",
       " 'ache stomach': 1.8,\n",
       " 'ache joint': 4.2,\n",
       " 'ache tooth': 1.9,\n",
       " 'rash skin': 2.8,\n",
       " 'itch skin': 3.7,\n",
       " 'bite bug': 1.7,\n",
       " 'bite dog': 0.3}"
      ]
     },
     "execution_count": 32,
     "metadata": {},
     "output_type": "execute_result"
    }
   ],
   "source": [
    "# Calculate the wait-to-report times for each user complaint\n",
    "waitplot_dict = {}\n",
    "\n",
    "for key, value in wait_dict.items():\n",
    "    avg = round(sum(value) / len(value),2)\n",
    "    waitplot_dict[key] = avg\n",
    "\n",
    "# Display the average wait-to-report times (in days)\n",
    "waitplot_dict\n"
   ]
  },
  {
   "cell_type": "markdown",
   "id": "ee7be7ea-6d65-479c-b051-00f5e1418b95",
   "metadata": {},
   "source": [
    "#### Visualize the average user wait-to-report complaint times (in days)"
   ]
  },
  {
   "cell_type": "code",
   "execution_count": 33,
   "id": "191ed716-af91-4f94-af28-4f7121b12b66",
   "metadata": {},
   "outputs": [
    {
     "data": {
      "text/plain": [
       "Text(0.5, 1.0, 'Average Number of Days Delayed Before Reporting to Medi')"
      ]
     },
     "execution_count": 33,
     "metadata": {},
     "output_type": "execute_result"
    },
    {
     "data": {
      "image/png": "[encoded data removed]",
      "text/plain": [
       "<Figure size 640x480 with 1 Axes>"
      ]
     },
     "metadata": {},
     "output_type": "display_data"
    }
   ],
   "source": [
    "# Sort the wait-to-complain wait average times (in days) by user complaint\n",
    "sorted_wait = dict(sorted(waitplot_dict.items(), key=lambda item: item[1]))\n",
    "plot_waits = list(sorted_wait.keys())\n",
    "plot_wait_days = list(sorted_wait.values())\n",
    "\n",
    "plt.barh(plot_waits, plot_wait_days)\n",
    "plt.xlabel('Days')\n",
    "plt.title('Average Number of Days Delayed Before Reporting to Medi')"
   ]
  },
  {
   "cell_type": "markdown",
   "id": "aa3ec39a-56a1-4ef6-ab46-d9e98a84293d",
   "metadata": {},
   "source": [
    "<b>Plot interpretation</b>: Patients waited the longest to report joint ache to Medi, followed by gum pain and eye itch. A dog bite, chest pain and broken ribs had the lowest time to report."
   ]
  },
  {
   "cell_type": "markdown",
   "id": "c7410f44-2ca4-47e8-a9ce-1f077f1a130f",
   "metadata": {},
   "source": [
    "#### Attempt to analyze the cause of the user complaint"
   ]
  },
  {
   "cell_type": "markdown",
   "id": "0bea0d3e-65d1-4624-9869-1054b72dd428",
   "metadata": {},
   "source": [
    "This section is to be used for situations when the user knows what caused their complaint (for example, a broken arm was caused by falling down). \n",
    "\n",
    "A user may not know what caused a skin rash or an upset stomach."
   ]
  },
  {
   "cell_type": "code",
   "execution_count": 34,
   "id": "9c89337f-6c89-47c9-a88b-a0f36478043f",
   "metadata": {},
   "outputs": [],
   "source": [
    "# Correct the spelling of the cause input\n",
    "cause_input_corrected = str(TextBlob(cause_input.lower()).correct())"
   ]
  },
  {
   "cell_type": "code",
   "execution_count": 35,
   "id": "e26b9577-eca0-4335-a1ff-9adc04a5c032",
   "metadata": {},
   "outputs": [],
   "source": [
    "# Tokenize the cause input\n",
    "tokens = word_tokenize(cause_input_corrected)\n",
    "\n",
    "# Apply Part-of-speech (POS) tagging\n",
    "pos_tags = pos_tag(tokens)\n",
    "\n",
    "# Apply Named Entity Recognition (NER)\n",
    "ner_tree = ne_chunk(pos_tags)\n",
    "\n",
    "# Remove stopwords from the user input\n",
    "cause_input_nostopwords = [word for word in tokens if word.lower() not in stopwords.words(\"english\")]"
   ]
  },
  {
   "cell_type": "code",
   "execution_count": 36,
   "id": "65ceab9a-e128-4b0f-8d70-323e2d4a231b",
   "metadata": {},
   "outputs": [
    {
     "data": {
      "text/plain": [
       "['i', 'fell', 'down']"
      ]
     },
     "execution_count": 36,
     "metadata": {},
     "output_type": "execute_result"
    }
   ],
   "source": [
    "# Display the tokens\n",
    "tokens"
   ]
  },
  {
   "cell_type": "code",
   "execution_count": 37,
   "id": "12e5d493-18da-4a93-b8a1-b2638545a7ae",
   "metadata": {},
   "outputs": [
    {
     "data": {
      "text/plain": [
       "[('i', 'NN'), ('fell', 'VBD'), ('down', 'RB')]"
      ]
     },
     "execution_count": 37,
     "metadata": {},
     "output_type": "execute_result"
    }
   ],
   "source": [
    "# Display the POS tags\n",
    "pos_tags"
   ]
  },
  {
   "cell_type": "markdown",
   "id": "0a6c6f10-f7d6-47a9-b303-139f69d9a104",
   "metadata": {},
   "source": [
    "#### Attempt to isolate the verbs (action words) that may have caused the complaint."
   ]
  },
  {
   "cell_type": "code",
   "execution_count": 38,
   "id": "a57cc33e-855c-4c0b-9ba6-01f59cfcd345",
   "metadata": {},
   "outputs": [],
   "source": [
    "# Create a list of verb tags\n",
    "verbs = [word for word, tag in pos_tags if tag in ['VB', 'VBD', 'VBG', 'VBN', 'VBP', 'VBZ']]\n"
   ]
  },
  {
   "cell_type": "markdown",
   "id": "24e7f352-5558-4733-9bfe-d99d23e17e57",
   "metadata": {},
   "source": [
    "#### Use Lemmatization to find the base form of the verbs (including irregular verbs) for the cause of patient complaints"
   ]
  },
  {
   "cell_type": "code",
   "execution_count": 39,
   "id": "7a123bdc-57a2-4662-9a21-2dbf5a18b1a8",
   "metadata": {},
   "outputs": [
    {
     "name": "stdout",
     "output_type": "stream",
     "text": [
      "fall\n"
     ]
    }
   ],
   "source": [
    "# Store the base form of the verb\n",
    "base_form = ''\n",
    "\n",
    "# Define irregular verbs\n",
    "irregular_verbs = {\n",
    "    'fell': 'fall',\n",
    "    # Add more irregular verbs here\n",
    "}\n",
    "\n",
    "# Sort through the verbs for the cause of the user complaint\n",
    "for verb in verbs:\n",
    "    if verb in irregular_verbs:\n",
    "        base_form = irregular_verbs[verb]\n",
    "    else:\n",
    "        lemmatizer = WordNetLemmatizer()\n",
    "        base_form += lemmatizer.lemmatize(verb, pos='v')\n",
    "\n",
    "# Print the verb\n",
    "print(base_form)\n"
   ]
  },
  {
   "cell_type": "code",
   "execution_count": 40,
   "id": "6adc7d93-3774-430b-ac98-7a3b18a69bc7",
   "metadata": {},
   "outputs": [
    {
     "data": {
      "text/html": [
       "<span class=\"tex2jax_ignore\"><svg xmlns=\"http://www.w3.org/2000/svg\" xmlns:xlink=\"http://www.w3.org/1999/xlink\" xml:lang=\"en\" id=\"ff87dd344a1e4f25829c76dd0e9f5323-0\" class=\"displacy\" width=\"925\" height=\"399.5\" direction=\"ltr\" style=\"max-width: none; height: 399.5px; color: #000000; background: #ffffff; font-family: Arial; direction: ltr\">\n",
       "<text class=\"displacy-token\" fill=\"currentColor\" text-anchor=\"middle\" y=\"309.5\">\n",
       "    <tspan class=\"displacy-word\" fill=\"currentColor\" x=\"50\">i</tspan>\n",
       "    <tspan class=\"displacy-tag\" dy=\"2em\" fill=\"currentColor\" x=\"50\">PRON</tspan>\n",
       "</text>\n",
       "\n",
       "<text class=\"displacy-token\" fill=\"currentColor\" text-anchor=\"middle\" y=\"309.5\">\n",
       "    <tspan class=\"displacy-word\" fill=\"currentColor\" x=\"225\">have</tspan>\n",
       "    <tspan class=\"displacy-tag\" dy=\"2em\" fill=\"currentColor\" x=\"225\">VERB</tspan>\n",
       "</text>\n",
       "\n",
       "<text class=\"displacy-token\" fill=\"currentColor\" text-anchor=\"middle\" y=\"309.5\">\n",
       "    <tspan class=\"displacy-word\" fill=\"currentColor\" x=\"400\">a</tspan>\n",
       "    <tspan class=\"displacy-tag\" dy=\"2em\" fill=\"currentColor\" x=\"400\">DET</tspan>\n",
       "</text>\n",
       "\n",
       "<text class=\"displacy-token\" fill=\"currentColor\" text-anchor=\"middle\" y=\"309.5\">\n",
       "    <tspan class=\"displacy-word\" fill=\"currentColor\" x=\"575\">broken</tspan>\n",
       "    <tspan class=\"displacy-tag\" dy=\"2em\" fill=\"currentColor\" x=\"575\">ADJ</tspan>\n",
       "</text>\n",
       "\n",
       "<text class=\"displacy-token\" fill=\"currentColor\" text-anchor=\"middle\" y=\"309.5\">\n",
       "    <tspan class=\"displacy-word\" fill=\"currentColor\" x=\"750\">arm</tspan>\n",
       "    <tspan class=\"displacy-tag\" dy=\"2em\" fill=\"currentColor\" x=\"750\">NOUN</tspan>\n",
       "</text>\n",
       "\n",
       "<g class=\"displacy-arrow\">\n",
       "    <path class=\"displacy-arc\" id=\"arrow-ff87dd344a1e4f25829c76dd0e9f5323-0-0\" stroke-width=\"2px\" d=\"M70,264.5 C70,177.0 215.0,177.0 215.0,264.5\" fill=\"none\" stroke=\"currentColor\"/>\n",
       "    <text dy=\"1.25em\" style=\"font-size: 0.8em; letter-spacing: 1px\">\n",
       "        <textPath xlink:href=\"#arrow-ff87dd344a1e4f25829c76dd0e9f5323-0-0\" class=\"displacy-label\" startOffset=\"50%\" side=\"left\" fill=\"currentColor\" text-anchor=\"middle\">nsubj</textPath>\n",
       "    </text>\n",
       "    <path class=\"displacy-arrowhead\" d=\"M70,266.5 L62,254.5 78,254.5\" fill=\"currentColor\"/>\n",
       "</g>\n",
       "\n",
       "<g class=\"displacy-arrow\">\n",
       "    <path class=\"displacy-arc\" id=\"arrow-ff87dd344a1e4f25829c76dd0e9f5323-0-1\" stroke-width=\"2px\" d=\"M420,264.5 C420,89.5 745.0,89.5 745.0,264.5\" fill=\"none\" stroke=\"currentColor\"/>\n",
       "    <text dy=\"1.25em\" style=\"font-size: 0.8em; letter-spacing: 1px\">\n",
       "        <textPath xlink:href=\"#arrow-ff87dd344a1e4f25829c76dd0e9f5323-0-1\" class=\"displacy-label\" startOffset=\"50%\" side=\"left\" fill=\"currentColor\" text-anchor=\"middle\">det</textPath>\n",
       "    </text>\n",
       "    <path class=\"displacy-arrowhead\" d=\"M420,266.5 L412,254.5 428,254.5\" fill=\"currentColor\"/>\n",
       "</g>\n",
       "\n",
       "<g class=\"displacy-arrow\">\n",
       "    <path class=\"displacy-arc\" id=\"arrow-ff87dd344a1e4f25829c76dd0e9f5323-0-2\" stroke-width=\"2px\" d=\"M595,264.5 C595,177.0 740.0,177.0 740.0,264.5\" fill=\"none\" stroke=\"currentColor\"/>\n",
       "    <text dy=\"1.25em\" style=\"font-size: 0.8em; letter-spacing: 1px\">\n",
       "        <textPath xlink:href=\"#arrow-ff87dd344a1e4f25829c76dd0e9f5323-0-2\" class=\"displacy-label\" startOffset=\"50%\" side=\"left\" fill=\"currentColor\" text-anchor=\"middle\">amod</textPath>\n",
       "    </text>\n",
       "    <path class=\"displacy-arrowhead\" d=\"M595,266.5 L587,254.5 603,254.5\" fill=\"currentColor\"/>\n",
       "</g>\n",
       "\n",
       "<g class=\"displacy-arrow\">\n",
       "    <path class=\"displacy-arc\" id=\"arrow-ff87dd344a1e4f25829c76dd0e9f5323-0-3\" stroke-width=\"2px\" d=\"M245,264.5 C245,2.0 750.0,2.0 750.0,264.5\" fill=\"none\" stroke=\"currentColor\"/>\n",
       "    <text dy=\"1.25em\" style=\"font-size: 0.8em; letter-spacing: 1px\">\n",
       "        <textPath xlink:href=\"#arrow-ff87dd344a1e4f25829c76dd0e9f5323-0-3\" class=\"displacy-label\" startOffset=\"50%\" side=\"left\" fill=\"currentColor\" text-anchor=\"middle\">dobj</textPath>\n",
       "    </text>\n",
       "    <path class=\"displacy-arrowhead\" d=\"M750.0,266.5 L758.0,254.5 742.0,254.5\" fill=\"currentColor\"/>\n",
       "</g>\n",
       "</svg></span>"
      ],
      "text/plain": [
       "<IPython.core.display.HTML object>"
      ]
     },
     "metadata": {},
     "output_type": "display_data"
    }
   ],
   "source": [
    "# Use displaCy to visualize the sentence structure of the complaint\n",
    "nlp = spacy.load(\"en_core_web_sm\")\n",
    "document = nlp(str(TextBlob(user_input.lower()).correct()))\n",
    "displacy.render(document, style='dep', jupyter=True)"
   ]
  },
  {
   "cell_type": "markdown",
   "id": "dcf00ab2-259b-4617-8974-da930048842a",
   "metadata": {},
   "source": [
    "<b>Plot interpretation</b>: Since the cause of the patient complaint is open-ended, an expert can use the information provided by Medi to match the patient complaint with the cause of the complaint (for example a broken arm was caused by a fall)."
   ]
  },
  {
   "cell_type": "markdown",
   "id": "05424ce4-24f2-49da-a786-8ea0ad216b21",
   "metadata": {},
   "source": [
    "### Sentiment analysis"
   ]
  },
  {
   "cell_type": "markdown",
   "id": "0a7de4e5-05a7-46cf-8896-2faabfbc5e1e",
   "metadata": {},
   "source": [
    "The purpose of sentiment analysis is to examine the feedback to see if the user thought that the advice provided by Medi was helpful (positive sentiment) or not (negative sentiment). It is possible to have a neutral sentiment if the advice is related to the problem though not very helpful.\n",
    "\n",
    "Polarity measures agreement and ranges from -1 (strong disapproval) to 1 (strong approval).\n",
    "\n",
    "Subjectivity ranges from 0 (the text contains factual information) to 1 (the text contains a personal opinion).\n",
    "\n"
   ]
  },
  {
   "cell_type": "code",
   "execution_count": 41,
   "id": "a36950ec-7cd8-4ad8-adc8-d0fbdb472453",
   "metadata": {},
   "outputs": [
    {
     "name": "stdout",
     "output_type": "stream",
     "text": [
      "User input: Yes it was very helpful\n",
      "Polarity: 0.2\n",
      "Subjectivity: 0.3\n",
      "Sentiment: positive\n"
     ]
    }
   ],
   "source": [
    "# Define the text for sentiment analysis\n",
    "text = user_feedback\n",
    "\n",
    "# Create a TextBlob object\n",
    "blob = TextBlob(text)\n",
    "\n",
    "# Analyze sentiment\n",
    "sentiment = blob.sentiment\n",
    "\n",
    "# Sentiment polarity ranges from -1 (negative) to 1 (positive)\n",
    "# Sentiment subjectivity ranges from 0 (objective) to 1 (subjective)\n",
    "polarity = sentiment.polarity\n",
    "subjectivity = sentiment.subjectivity\n",
    "\n",
    "# Determine sentiment labels\n",
    "if polarity > 0:\n",
    "    sentiment_rating = \"positive\"\n",
    "elif polarity < 0:\n",
    "    sentiment_rating = \"negative\"\n",
    "else:\n",
    "    sentiment_rating = \"neutral\"\n",
    "\n",
    "# Print sentiment analysis results\n",
    "print(\"User input:\", text)\n",
    "print(\"Polarity:\", polarity)\n",
    "print(\"Subjectivity:\", subjectivity)\n",
    "print(\"Sentiment:\", sentiment_rating)"
   ]
  },
  {
   "cell_type": "markdown",
   "id": "45e2af89-ee9f-4537-b48b-96443ec8a07e",
   "metadata": {},
   "source": [
    "<b>Result interpretation</b>: The polarity produced a result of 0.2 from a scale of -1 to 1, meaning mildly positive. The subjectivity was 0.3 on a scale of 0 to 1, meaning an objective statement. The overall sentiment of the user feedback was positive."
   ]
  },
  {
   "cell_type": "markdown",
   "id": "2cda19ba-7d3f-497c-8fff-94ef035b4021",
   "metadata": {},
   "source": [
    "#### Update the sentiment rating scores and save to disk"
   ]
  },
  {
   "cell_type": "code",
   "execution_count": 42,
   "id": "4df45b45-8483-49d3-af47-a5d41722e5db",
   "metadata": {},
   "outputs": [],
   "source": [
    "# Increment the sentiment score for the user rating\n",
    "sentiment_dict[sentiment_rating] += 1"
   ]
  },
  {
   "cell_type": "code",
   "execution_count": 43,
   "id": "d14566ad-5325-46bd-8b0e-6f516403bd7a",
   "metadata": {},
   "outputs": [
    {
     "name": "stdout",
     "output_type": "stream",
     "text": [
      "The dictionary has been saved to data/sentiment.txt\n"
     ]
    }
   ],
   "source": [
    "# Save the updated sentiment dictionary to disk\n",
    "file_path = \"data/sentiment.txt\"\n",
    "\n",
    "with open(file_path, 'w') as file:\n",
    "    for key, value in sentiment_dict.items():\n",
    "        file.write(f\"{key}:{value}\\n\")\n",
    "\n",
    "print(f\"The dictionary has been saved to {file_path}\")"
   ]
  },
  {
   "cell_type": "markdown",
   "id": "606738b3-a4bb-4c04-8614-1d658e315a1f",
   "metadata": {},
   "source": [
    "#### Visualize the sentiment scores for all user interactions"
   ]
  },
  {
   "cell_type": "code",
   "execution_count": 44,
   "id": "becd7894-81df-49cf-afba-ee13ae0fd204",
   "metadata": {},
   "outputs": [
    {
     "data": {
      "image/png": "[encoded data removed]",
      "text/plain": [
       "<Figure size 640x480 with 1 Axes>"
      ]
     },
     "metadata": {},
     "output_type": "display_data"
    }
   ],
   "source": [
    "# Create variables to hold the user sentiment values\n",
    "items = sentiment_dict.keys()\n",
    "counts = sentiment_dict.values()\n",
    "\n",
    "# Plot the sentiment results\n",
    "plt.bar(items, counts)\n",
    "plt.xlabel('Sentiment')\n",
    "plt.ylabel('Count')\n",
    "plt.title('Sentiment Count')\n",
    "plt.grid(axis='y', linestyle='--', linewidth=0.5)"
   ]
  },
  {
   "cell_type": "markdown",
   "id": "72637d59-c5a5-4147-a614-1c2b40b2efee",
   "metadata": {},
   "source": [
    "<b>Plot interpretation</b>: The Medi chatbot has received more positive feedback than negative or neutral; however the negative sentiment reveals there is more work to be done on Medi."
   ]
  },
  {
   "cell_type": "markdown",
   "id": "e73b9124-e34a-4f6c-8b64-79d3bf7c2afc",
   "metadata": {},
   "source": [
    "#### Create a Word Cloud"
   ]
  },
  {
   "cell_type": "markdown",
   "id": "98c944c9-65cc-4227-9e0d-b4a9cb5bc60d",
   "metadata": {},
   "source": [
    "A word cloud provides a visual representation of the frequency of occurrence of a word or short phrase in textual data. The size of the text font of the word or phrase is proportional to how often that word or phrase occurs in a body of text."
   ]
  },
  {
   "cell_type": "code",
   "execution_count": 45,
   "id": "0d2bf8f7-6d35-461b-8677-951196e6c0c6",
   "metadata": {},
   "outputs": [
    {
     "data": {
      "text/plain": [
       "{'broken arm': 155,\n",
       " 'broken leg': 116,\n",
       " 'broken foot': 5,\n",
       " 'broken ribs': 74,\n",
       " 'sprain ankle': 200,\n",
       " 'itch eye': 31,\n",
       " 'red eye': 20,\n",
       " 'pain chest': 102,\n",
       " 'pain ankle': 115,\n",
       " 'pain mouth': 62,\n",
       " 'pain gum': 87,\n",
       " 'pain back': 190,\n",
       " 'ache stomach': 141,\n",
       " 'ache joint': 98,\n",
       " 'ache tooth': 166,\n",
       " 'rash skin': 177,\n",
       " 'itch skin': 45,\n",
       " 'bite bug': 120,\n",
       " 'bite insect': 150,\n",
       " 'bite dog': 56}"
      ]
     },
     "execution_count": 45,
     "metadata": {},
     "output_type": "execute_result"
    }
   ],
   "source": [
    "# Display the frequency of each user complaint\n",
    "counts_dict"
   ]
  },
  {
   "cell_type": "code",
   "execution_count": 46,
   "id": "0a795eaf-3705-44f3-8967-4e0575134074",
   "metadata": {},
   "outputs": [
    {
     "data": {
      "text/plain": [
       "<wordcloud.wordcloud.WordCloud at 0x20519719b50>"
      ]
     },
     "execution_count": 46,
     "metadata": {},
     "output_type": "execute_result"
    }
   ],
   "source": [
    "# Create the wordcloud object based on the frequency of each complaint\n",
    "wordcloud = WordCloud(width=800, height=400, background_color='white')\n",
    "wordcloud.generate_from_frequencies(counts_dict)"
   ]
  },
  {
   "cell_type": "code",
   "execution_count": 47,
   "id": "38284494-55dd-4424-8965-98f7db206c8e",
   "metadata": {},
   "outputs": [
    {
     "data": {
      "image/png": "[encoded data removed]",
      "text/plain": [
       "<Figure size 1000x500 with 1 Axes>"
      ]
     },
     "metadata": {},
     "output_type": "display_data"
    }
   ],
   "source": [
    "# Display the word cloud\n",
    "plt.figure(figsize=(10, 5))\n",
    "plt.imshow(wordcloud, interpolation='bilinear')\n",
    "plt.axis(\"off\")\n",
    "plt.show()"
   ]
  },
  {
   "cell_type": "markdown",
   "id": "29105d55-309c-47dc-83f4-2f889a9ccb95",
   "metadata": {},
   "source": [
    "<b>Plot interpretation</b>: The complaints for ankle sprain, back pain and skin rash have the largest text fonts and therefore can be taken as the most common user complaints. Red eye and eye itch are displayed in small fonts and can be taken as less frequent user complaints."
   ]
  },
  {
   "cell_type": "markdown",
   "id": "23fb4a7d-62d0-4b55-8a6c-76472d341eb5",
   "metadata": {},
   "source": [
    "## Summary and conclusion"
   ]
  },
  {
   "cell_type": "markdown",
   "id": "22f9bce8-196c-4f6c-9dea-9373fc3d4c98",
   "metadata": {},
   "source": [
    "Both Part 1 (the Medi chatbot engine) and Part 2 (the user data analytics portion) of this project were made possible by using NLP techniques. These techniques include:\n",
    "\n",
    "* A text classification pipeline (using count vectorization, TF-IDF transformer, and Multinomial Naïve Bayes classifier)\n",
    "* Regular expressions\n",
    "* Tokenizing\n",
    "* Part-of-speech (POS) tagging\n",
    "* Named Entity Recognition (NER)\n",
    "* Removal of stop words that do not contribute to the meaning of a sentence\n",
    "* Lemmatization (using both built-in and custom verb models)\n",
    "* Sentiment analysis\n",
    "* displaCy sentence structure visualization with POS tagging\n",
    "* Word cloud visualization\n",
    "\n",
    "These powerful tools and techniques powered the chatbot to act as an intelligent agent but also helped to gain insights into how the user interacted with the chatbot and obtain information about how the chatbot can be improved.\n",
    "\n",
    "Chatbots are one way to provide access to users with information they need in a Question/Answer format. It may be easier to interact with an automated agent like a chatbot than a live person for medical questions by reducing embarrassment that may prevent the user from seeking help in the first place.\n",
    "\n",
    "\r\n"
   ]
  },
  {
   "cell_type": "markdown",
   "id": "64c59836-3ec3-4af1-8046-9cfe2fb486ef",
   "metadata": {},
   "source": [
    "## Publication"
   ]
  },
  {
   "cell_type": "markdown",
   "id": "1484e768-40bc-49e5-8050-51f88377d9c6",
   "metadata": {},
   "source": [
    "YouTube Video Link: https://youtu.be/GmJT_Ft3dNs\n",
    "\n",
    "GitHub Repo Link: https://github.com/PaulSandeen-mtsac/CISB63_Midterm"
   ]
  },
  {
   "cell_type": "code",
   "execution_count": null,
   "id": "d47b1e82-84a8-41f2-be91-7b2ace53c79d",
   "metadata": {},
   "outputs": [],
   "source": []
  }
 ],
 "metadata": {
  "kernelspec": {
   "display_name": "Python 3 (ipykernel)",
   "language": "python",
   "name": "python3"
  },
  "language_info": {
   "codemirror_mode": {
    "name": "ipython",
    "version": 3
   },
   "file_extension": ".py",
   "mimetype": "text/x-python",
   "name": "python",
   "nbconvert_exporter": "python",
   "pygments_lexer": "ipython3",
   "version": "3.11.5"
  }
 },
 "nbformat": 4,
 "nbformat_minor": 5
}
